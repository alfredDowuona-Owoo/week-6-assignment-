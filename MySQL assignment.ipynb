{
 "cells": [
  {
   "cell_type": "markdown",
   "id": "e253fa18",
   "metadata": {},
   "source": [
    "##### Q1. What is a database? Differentiate between SQL and NoSQL databases."
   ]
  },
  {
   "cell_type": "markdown",
   "id": "af14f5c9",
   "metadata": {},
   "source": [
    " * A database is a structured collection of data organized for efficient storage, retrieval, and management. Databases are used to store and manipulate large volumes of information in a way that allows users or applications to access, update, and query the data effectively. "
   ]
  },
  {
   "cell_type": "markdown",
   "id": "262e7edd",
   "metadata": {},
   "source": [
    " * SQL Databases:\n",
    "\n",
    "SQL databases are relational databases, which means they are based on the relational model. Data is organized into tables with rows and columns, and the relationships between different tables are defined using keys."
   ]
  },
  {
   "cell_type": "markdown",
   "id": "799daa74",
   "metadata": {},
   "source": [
    "* NoSQL Databases:\n",
    "\n",
    "NoSQL databases encompass various data models, including document-based, key-value, column-family, and graph databases. They are designed to be more flexible and schema-less, allowing for dynamic and unstructured data."
   ]
  },
  {
   "cell_type": "markdown",
   "id": "d484ac04",
   "metadata": {},
   "source": [
    "##### Q2. What is DDL? Explain why CREATE, DROP, ALTER, and TRUNCATE are used with an example."
   ]
  },
  {
   "cell_type": "markdown",
   "id": "bebf1e3a",
   "metadata": {},
   "source": [
    "* DDL stands for Data Definition Language, which is a subset of SQL used for defining and managing the structure of a database. DDL statements are responsible for creating, modifying, and deleting database objects, such as tables, indexes, and constraints. "
   ]
  },
  {
   "cell_type": "markdown",
   "id": "49d7d454",
   "metadata": {},
   "source": [
    "* CREATE:\n",
    "The CREATE statement is used to create new database objects, such as tables, indexes, and views. It specifies the structure of the object, including its columns, data types, and constraints.\n",
    "\n",
    "CREATE TABLE employees (\n",
    "    employee_id INT PRIMARY KEY,\n",
    "    employee_name VARCHAR(50),\n",
    "    salary DECIMAL(10, 2)\n",
    ");\n"
   ]
  },
  {
   "cell_type": "markdown",
   "id": "01dc58e4",
   "metadata": {},
   "source": [
    "* DROP:\n",
    "The DROP statement is used to delete existing database objects. It permanently removes the object and all associated data.\n",
    "\n",
    "DROP TABLE employees;"
   ]
  },
  {
   "cell_type": "markdown",
   "id": "7e402cc4",
   "metadata": {},
   "source": [
    "* ALTER:\n",
    "The ALTER statement is used to modify the structure of an existing database object. It can be used to add, modify, or delete columns, change data types, or add constraints.\n",
    "\n",
    "ALTER TABLE employees\n",
    "ADD COLUMN department VARCHAR(50);\n"
   ]
  },
  {
   "cell_type": "markdown",
   "id": "6bd9d3bb",
   "metadata": {},
   "source": [
    " * TRUNCATE:\n",
    "The TRUNCATE statement is used to quickly delete all data from a table while retaining the table structure. It is faster than using DELETE for removing all records.\n",
    "\n",
    "TRUNCATE TABLE employees;\n"
   ]
  },
  {
   "cell_type": "markdown",
   "id": "f497ed17",
   "metadata": {},
   "source": [
    "##### Q3. What is DML? Explain INSERT, UPDATE, and DELETE with an example."
   ]
  },
  {
   "cell_type": "markdown",
   "id": "07dfed29",
   "metadata": {},
   "source": [
    " * DML stands for Data Manipulation Language, which is a subset of SQL (Structured Query Language) used for interacting with and manipulating data stored in a database. DML statements are responsible for performing actions such as inserting, updating, retrieving, and deleting data within database tables."
   ]
  },
  {
   "cell_type": "markdown",
   "id": "9b1cf5cb",
   "metadata": {},
   "source": [
    "* INSERT:\n",
    "The INSERT statement is used to add new rows of data into a database table. It specifies the table into which data should be inserted and the values to be inserted into each column.\n",
    "\n",
    "INSERT INTO employees (employee_id, employee_name, salary, department)\n",
    "VALUES (1, 'John Smith', 50000, 'HR');"
   ]
  },
  {
   "cell_type": "markdown",
   "id": "36bee7d3",
   "metadata": {},
   "source": [
    " * UPDATE:\n",
    "The UPDATE statement is used to modify existing data within a table. It allows you to change the values of specific columns in one or more rows that meet a specified condition\n",
    "\n",
    "UPDATE employees\n",
    "SET salary = 55000\n",
    "WHERE employee_id = 1;"
   ]
  },
  {
   "cell_type": "markdown",
   "id": "a0ea1791",
   "metadata": {},
   "source": [
    " * DELETE:\n",
    "The DELETE statement is used to remove one or more rows from a table based on a specified condition. It deletes the entire row(s) that match the condition.\n",
    "\n",
    "DELETE FROM employees\n",
    "WHERE employee_id = 2;\n"
   ]
  },
  {
   "cell_type": "markdown",
   "id": "bc29ab94",
   "metadata": {},
   "source": [
    "##### Q4. What is DQL? Explain SELECT with an example."
   ]
  },
  {
   "cell_type": "markdown",
   "id": "a3f5642f",
   "metadata": {},
   "source": [
    "* DQL stands for Data Query Language, which is a subset of SQL (Structured Query Language) used for retrieving and querying data from a database. DQL statements are primarily concerned with selecting and retrieving data from one or more tables in a database. The most common DQL statement is SELECT, which allows you to specify which columns you want to retrieve and apply various filtering and sorting criteria to the data."
   ]
  },
  {
   "cell_type": "markdown",
   "id": "28f0b00a",
   "metadata": {},
   "source": [
    "* The SELECT statement is highly versatile and can be extended to include features such as sorting, grouping, aggregating, and joining multiple tables to retrieve and manipulate data in various ways to meet specific data retrieval and analysis requirements.\n",
    "\n",
    " - SELECT employee_name, salary\n",
    " - FROM employees\n",
    " - WHERE department = 'HR' AND salary > 50000;\n"
   ]
  },
  {
   "cell_type": "markdown",
   "id": "9577d3cc",
   "metadata": {},
   "source": [
    "##### Q5. Explain Primary Key and Foreign Key."
   ]
  },
  {
   "cell_type": "markdown",
   "id": "24f733e5",
   "metadata": {},
   "source": [
    " * A Primary Key is a column or a set of columns in a database table that uniquely identifies each row or record in that table.\n",
    "It enforces entity integrity, meaning that each row in the table must have a unique identifier, and it cannot contain duplicate values in the specified column(s).\n",
    "Primary Keys are used to create relationships between tables and to establish referential integrity constraints.\n",
    "Typically, a Primary Key is implemented as an index on the specified column(s), which allows for efficient data retrieval.\n",
    "Common data types for Primary Keys include integers, strings, and GUIDs (Globally Unique Identifiers)."
   ]
  },
  {
   "cell_type": "markdown",
   "id": "b5ba682a",
   "metadata": {},
   "source": [
    " * A Foreign Key is a column or a set of columns in one table that establishes a link between the data in two tables. It creates a relationship between the tables, allowing one table to refer to the values in another table.\n",
    "It enforces referential integrity, ensuring that the values in the Foreign Key column(s) correspond to values in the Primary Key column(s) of another table.\n",
    "Foreign Keys are used to maintain consistency and data integrity when data is spread across multiple related tables.\n",
    "Foreign Keys help implement constraints like cascading updates and deletes, where changes to the referenced table affect related rows in the referring table."
   ]
  },
  {
   "cell_type": "markdown",
   "id": "ef8620d2",
   "metadata": {},
   "source": [
    "##### Q6. Write a python code to connect MySQL to python. Explain the cursor() and execute() method."
   ]
  },
  {
   "cell_type": "markdown",
   "id": "c0157fc4",
   "metadata": {},
   "source": [
    "pip install mysql-connector-python\n"
   ]
  },
  {
   "cell_type": "code",
   "execution_count": null,
   "id": "f3c1a91a",
   "metadata": {},
   "outputs": [],
   "source": [
    "import mysql.connector\n",
    "\n",
    "# Replace with your own database credentials\n",
    "db_config = {\n",
    "    \"host\": \"my_host\",\n",
    "    \"user\": \"my_username\",\n",
    "    \"password\": \"my_password\",\n",
    "    \"database\": \"my_database\",\n",
    "}\n",
    "\n",
    "try:\n",
    "    # Establish a connection to the MySQL server\n",
    "    connection = mysql.connector.connect(**db_config)\n",
    "\n",
    "    # Create a cursor object to interact with the database\n",
    "    cursor = connection.cursor()\n",
    "\n",
    "    # Example 1: Execute a simple SQL query\n",
    "    query = \"SELECT * FROM my_table_name\"\n",
    "    cursor.execute(query)\n",
    "\n",
    "    # Fetch and display the results\n",
    "    results = cursor.fetchall()\n",
    "    for row in results:\n",
    "        print(row)\n",
    "\n",
    "    # Example 2: Insert data into a table\n",
    "    insert_query = \"INSERT INTO my_table_name (column1, column2) VALUES (%s, %s)\"\n",
    "    data_to_insert = (\"value1\", \"value2\")\n",
    "    cursor.execute(insert_query, data_to_insert)\n",
    "\n",
    "    # Commit the changes to the database (mandatory for write operations)\n",
    "    connection.commit()\n",
    "\n",
    "except mysql.connector.Error as error:\n",
    "    print(\"Error:\", error)\n",
    "\n",
    "finally:\n",
    "    # Close the cursor and connection\n",
    "    if cursor:\n",
    "        cursor.close()\n",
    "    if connection:\n",
    "        connection.close()\n"
   ]
  },
  {
   "cell_type": "markdown",
   "id": "37ada772",
   "metadata": {},
   "source": [
    "##### Q7. Give the order of execution of SQL clauses in an SQL query."
   ]
  },
  {
   "cell_type": "markdown",
   "id": "12e4b2b0",
   "metadata": {},
   "source": [
    "- SELECT clause\n",
    "- FROM clause\n",
    "- WHERE clause\n",
    "- GROUP BY clause\n",
    "- HAVING clause\n",
    "- DISTINCT clause\n",
    "- ORDER BY clause\n",
    "- LIMIT\n",
    "- UNION"
   ]
  },
  {
   "cell_type": "markdown",
   "id": "3e95126d",
   "metadata": {},
   "source": []
  },
  {
   "cell_type": "markdown",
   "id": "0e15a608",
   "metadata": {},
   "source": []
  },
  {
   "cell_type": "code",
   "execution_count": null,
   "id": "2b3c4121",
   "metadata": {},
   "outputs": [],
   "source": []
  },
  {
   "cell_type": "code",
   "execution_count": null,
   "id": "1851306e",
   "metadata": {},
   "outputs": [],
   "source": []
  },
  {
   "cell_type": "code",
   "execution_count": null,
   "id": "f504aee1",
   "metadata": {},
   "outputs": [],
   "source": []
  },
  {
   "cell_type": "code",
   "execution_count": null,
   "id": "0032a7e8",
   "metadata": {},
   "outputs": [],
   "source": []
  },
  {
   "cell_type": "code",
   "execution_count": null,
   "id": "6084891d",
   "metadata": {},
   "outputs": [],
   "source": []
  },
  {
   "cell_type": "code",
   "execution_count": null,
   "id": "56dba1cf",
   "metadata": {},
   "outputs": [],
   "source": []
  },
  {
   "cell_type": "code",
   "execution_count": null,
   "id": "1c046099",
   "metadata": {},
   "outputs": [],
   "source": []
  },
  {
   "cell_type": "code",
   "execution_count": null,
   "id": "acc7998e",
   "metadata": {},
   "outputs": [],
   "source": []
  },
  {
   "cell_type": "code",
   "execution_count": null,
   "id": "3d7c2914",
   "metadata": {},
   "outputs": [],
   "source": []
  },
  {
   "cell_type": "code",
   "execution_count": null,
   "id": "d8bfd1cf",
   "metadata": {},
   "outputs": [],
   "source": []
  },
  {
   "cell_type": "code",
   "execution_count": null,
   "id": "2f5a25a2",
   "metadata": {},
   "outputs": [],
   "source": []
  },
  {
   "cell_type": "code",
   "execution_count": null,
   "id": "7b11e88b",
   "metadata": {},
   "outputs": [],
   "source": []
  },
  {
   "cell_type": "code",
   "execution_count": null,
   "id": "2f2fde9f",
   "metadata": {},
   "outputs": [],
   "source": []
  },
  {
   "cell_type": "code",
   "execution_count": null,
   "id": "1dde0794",
   "metadata": {},
   "outputs": [],
   "source": []
  },
  {
   "cell_type": "code",
   "execution_count": null,
   "id": "5f004b19",
   "metadata": {},
   "outputs": [],
   "source": []
  },
  {
   "cell_type": "code",
   "execution_count": null,
   "id": "05ea7ab2",
   "metadata": {},
   "outputs": [],
   "source": []
  }
 ],
 "metadata": {
  "kernelspec": {
   "display_name": "Python 3 (ipykernel)",
   "language": "python",
   "name": "python3"
  },
  "language_info": {
   "codemirror_mode": {
    "name": "ipython",
    "version": 3
   },
   "file_extension": ".py",
   "mimetype": "text/x-python",
   "name": "python",
   "nbconvert_exporter": "python",
   "pygments_lexer": "ipython3",
   "version": "3.9.13"
  }
 },
 "nbformat": 4,
 "nbformat_minor": 5
}
